{
 "cells": [
  {
   "cell_type": "markdown",
   "id": "70f3b558",
   "metadata": {},
   "source": [
    "### use lnaguage models \n",
    "### using propmtTemplete and outpot pasrsers\n",
    "### use LCEL to chain components togetehr \n",
    "### Groq api\n",
    "### tracing using langsmith\n",
    "### deploying using langServer"
   ]
  },
  {
   "cell_type": "markdown",
   "id": "31cb9eb1",
   "metadata": {},
   "source": []
  },
  {
   "cell_type": "code",
   "execution_count": 12,
   "id": "26b606de",
   "metadata": {},
   "outputs": [],
   "source": [
    "import os \n",
    "from dotenv import load_dotenv\n",
    "load_dotenv()\n",
    "\n",
    "os.environ[\"GROQ_API\"] = os.getenv(\"GROQ_API\")\n",
    "os.environ[\"LANGSMITH_API_KEY\"] = os.getenv(\"LANGSMITH_API_KEY\")\n",
    "os.environ[\"LANGSMITH_TRACING\"] = os.getenv(\"LANGSMITH_TRACING\")\n",
    "os.environ[\"LANGSMITH_PROJECT\"] = os.getenv(\"LANGSMITH_PROJECT\")"
   ]
  },
  {
   "cell_type": "code",
   "execution_count": 13,
   "id": "edfa3d89",
   "metadata": {},
   "outputs": [
    {
     "data": {
      "text/plain": [
       "ChatGroq(client=<groq.resources.chat.completions.Completions object at 0x750004097500>, async_client=<groq.resources.chat.completions.AsyncCompletions object at 0x750004783fe0>, model_name='gemma2-9b-it', model_kwargs={}, groq_api_key=SecretStr('**********'))"
      ]
     },
     "execution_count": 13,
     "metadata": {},
     "output_type": "execute_result"
    }
   ],
   "source": [
    "from langchain_groq import ChatGroq\n",
    "model = ChatGroq( model=\"gemma2-9b-it\" ,api_key = os.getenv(\"GROQ_API\"))\n",
    "model\n",
    "\n"
   ]
  },
  {
   "cell_type": "code",
   "execution_count": 14,
   "id": "ae28f081",
   "metadata": {},
   "outputs": [],
   "source": [
    "from langchain_core.messages import HumanMessage , SystemMessage\n",
    "\n",
    "messages = [\n",
    "    SystemMessage(content=\"Translate the follwing from english to german\"),\n",
    "    HumanMessage(content=\"Hello, how are you?\")\n",
    "]\n",
    "result = model.invoke(messages)"
   ]
  },
  {
   "cell_type": "code",
   "execution_count": 15,
   "id": "79e0fe9f",
   "metadata": {},
   "outputs": [
    {
     "data": {
      "text/plain": [
       "AIMessage(content='Hallo, wie geht es dir? \\n', additional_kwargs={}, response_metadata={'token_usage': {'completion_tokens': 11, 'prompt_tokens': 23, 'total_tokens': 34, 'completion_time': 0.02, 'prompt_time': 0.00132825, 'queue_time': 0.185923281, 'total_time': 0.02132825}, 'model_name': 'gemma2-9b-it', 'system_fingerprint': 'fp_10c08bf97d', 'service_tier': 'on_demand', 'finish_reason': 'stop', 'logprobs': None}, id='run--970d4241-e32a-4adc-9bd9-03f20d80855c-0', usage_metadata={'input_tokens': 23, 'output_tokens': 11, 'total_tokens': 34})"
      ]
     },
     "execution_count": 15,
     "metadata": {},
     "output_type": "execute_result"
    }
   ],
   "source": [
    "result"
   ]
  },
  {
   "cell_type": "code",
   "execution_count": 16,
   "id": "ef8b0a05",
   "metadata": {},
   "outputs": [
    {
     "data": {
      "text/plain": [
       "'Hallo, wie geht es dir? \\n'"
      ]
     },
     "execution_count": 16,
     "metadata": {},
     "output_type": "execute_result"
    }
   ],
   "source": [
    "from langchain_core.output_parsers import StrOutputParser\n",
    "\n",
    "parser = StrOutputParser()\n",
    "parser.invoke(result)"
   ]
  },
  {
   "cell_type": "code",
   "execution_count": 17,
   "id": "85d5a7b2",
   "metadata": {},
   "outputs": [
    {
     "data": {
      "text/plain": [
       "'Hallo, wie geht es dir? \\n'"
      ]
     },
     "execution_count": 17,
     "metadata": {},
     "output_type": "execute_result"
    }
   ],
   "source": [
    "##using LCEL\n",
    "\n",
    "chain = model | parser \n",
    "chain.invoke(messages)\n"
   ]
  },
  {
   "cell_type": "code",
   "execution_count": 18,
   "id": "6cb2417c",
   "metadata": {},
   "outputs": [],
   "source": [
    "#using prompt \n",
    "\n",
    "from langchain_core.prompts import ChatPromptTemplate\n",
    "generic_template = \"translate the following into {language}\"\n",
    "\n",
    "prompt = ChatPromptTemplate.from_messages(\n",
    "    [(\"system\", generic_template), (\"user\", \"{text}\")]\n",
    ")\n",
    "\n"
   ]
  },
  {
   "cell_type": "code",
   "execution_count": 23,
   "id": "e289085d",
   "metadata": {},
   "outputs": [
    {
     "data": {
      "text/plain": [
       "'The most common and natural way to say \"Hello, how are you?\" in Chinese is:\\n\\n**你好， 你好吗？** (Nǐ hǎo, nǐ hǎo ma?)\\n\\n* **你好** (Nǐ hǎo) means \"Hello\"\\n* **好吗？** (hǎo ma?) means \"How are you?\"\\n\\n\\nLet me know if you have any other phrases you\\'d like translated!\\n'"
      ]
     },
     "execution_count": 23,
     "metadata": {},
     "output_type": "execute_result"
    }
   ],
   "source": [
    "chain = prompt | model | parser\n",
    "chain.invoke({\"language\": \"chaina\", \"text\": \"Hello, how are you?\"})"
   ]
  },
  {
   "cell_type": "code",
   "execution_count": null,
   "id": "2e50db4d",
   "metadata": {},
   "outputs": [],
   "source": []
  }
 ],
 "metadata": {
  "kernelspec": {
   "display_name": "venv",
   "language": "python",
   "name": "python3"
  },
  "language_info": {
   "codemirror_mode": {
    "name": "ipython",
    "version": 3
   },
   "file_extension": ".py",
   "mimetype": "text/x-python",
   "name": "python",
   "nbconvert_exporter": "python",
   "pygments_lexer": "ipython3",
   "version": "3.12.3"
  }
 },
 "nbformat": 4,
 "nbformat_minor": 5
}
