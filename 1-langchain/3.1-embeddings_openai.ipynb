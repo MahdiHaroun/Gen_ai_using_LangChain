{
 "cells": [
  {
   "cell_type": "code",
   "execution_count": null,
   "id": "e91329d8",
   "metadata": {},
   "outputs": [],
   "source": [
    "import os \n",
    "from dotenv import load_dotenv \n",
    "\n",
    "load_dotenv()\n"
   ]
  },
  {
   "cell_type": "code",
   "execution_count": null,
   "id": "22906628",
   "metadata": {},
   "outputs": [],
   "source": [
    "os.environ[\"OPENAI_API_KEY\"] = os.getenv(\"OPENAI_API_KEY\")\n"
   ]
  },
  {
   "cell_type": "code",
   "execution_count": null,
   "id": "206afca6",
   "metadata": {},
   "outputs": [],
   "source": [
    "from langchain_openai import OpenAIEmbeddings\n",
    "embeddings = OpenAIEmbeddings(model = \"text-embedding-3-large\")\n",
    "embeddings"
   ]
  },
  {
   "cell_type": "code",
   "execution_count": null,
   "id": "8683cf4f",
   "metadata": {},
   "outputs": [],
   "source": [
    "from langchain_openai import OpenAIEmbeddings\n",
    "embeddings_1024 = OpenAIEmbeddings(model=\"text-embedding-3-large\" , dimensions=1024)"
   ]
  },
  {
   "cell_type": "code",
   "execution_count": null,
   "id": "f3f00264",
   "metadata": {},
   "outputs": [],
   "source": [
    "text = \"this is a comment\"\n",
    "query = embeddings.embed_query(text)\n",
    "query"
   ]
  },
  {
   "cell_type": "markdown",
   "id": "6cb3be8b",
   "metadata": {},
   "source": [
    "full exp openai_emb"
   ]
  },
  {
   "cell_type": "code",
   "execution_count": null,
   "id": "f4166b02",
   "metadata": {},
   "outputs": [],
   "source": [
    "from langchain_community.document_loaders import TextLoader\n",
    "loader = TextLoader(\"spech.txt\")\n",
    "docs = loader.load()\n",
    "docs"
   ]
  },
  {
   "cell_type": "code",
   "execution_count": null,
   "id": "3cef8c4a",
   "metadata": {},
   "outputs": [],
   "source": [
    "from langchain_text_splitters import RecursiveCharacterTextSplitter\n",
    "\n",
    "text_splitter = RecursiveCharacterTextSplitter(\n",
    "    chunk_size=500,\n",
    "    chunk_overlap=50\n",
    ")\n",
    "final_document  = text_splitter.split_documents(docs)\n",
    "\n",
    "final_document\n"
   ]
  },
  {
   "cell_type": "code",
   "execution_count": null,
   "id": "a5db7afb",
   "metadata": {},
   "outputs": [],
   "source": [
    "#vector\n",
    "from langchain_community.vectorstores import Chroma\n",
    "\n",
    "db = Chroma.from_documents(final_document, embeddings_1024)\n",
    "db"
   ]
  },
  {
   "cell_type": "code",
   "execution_count": null,
   "id": "e4388f0f",
   "metadata": {},
   "outputs": [],
   "source": [
    "#querying\n",
    "query = \"Khalid bin Walid (RA) was appointed governor of Qinnasrin and surrounding regions\"\n",
    "retrived_result = db.similarity_search(query)\n",
    "print(retrived_result)"
   ]
  },
  {
   "cell_type": "code",
   "execution_count": null,
   "id": "1e3b65b8",
   "metadata": {},
   "outputs": [],
   "source": []
  }
 ],
 "metadata": {
  "kernelspec": {
   "display_name": "venv",
   "language": "python",
   "name": "python3"
  },
  "language_info": {
   "codemirror_mode": {
    "name": "ipython",
    "version": 3
   },
   "file_extension": ".py",
   "mimetype": "text/x-python",
   "name": "python",
   "nbconvert_exporter": "python",
   "pygments_lexer": "ipython3",
   "version": "3.12.3"
  }
 },
 "nbformat": 4,
 "nbformat_minor": 5
}
