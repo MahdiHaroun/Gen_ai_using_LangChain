{
 "cells": [
  {
   "cell_type": "code",
   "execution_count": 6,
   "id": "7eae3e60",
   "metadata": {},
   "outputs": [],
   "source": [
    "from langchain_community.document_loaders import TextLoader\n",
    "from langchain_community.vectorstores import FAISS\n",
    "from langchain_huggingface import HuggingFaceEmbeddings\n",
    "from langchain.text_splitter import RecursiveCharacterTextSplitter\n"
   ]
  },
  {
   "cell_type": "code",
   "execution_count": 9,
   "id": "9771c2b9",
   "metadata": {},
   "outputs": [],
   "source": [
    "loader = TextLoader(\"spech.txt\")\n",
    "documents = loader.load()\n",
    "text_splitter = RecursiveCharacterTextSplitter(chunk_size=1000, chunk_overlap=100)\n",
    "texts = text_splitter.split_documents(documents)\n"
   ]
  },
  {
   "cell_type": "code",
   "execution_count": 10,
   "id": "24042363",
   "metadata": {},
   "outputs": [],
   "source": [
    "embeddings = HuggingFaceEmbeddings(\n",
    "    model_name=\"all-MiniLM-L6-v2\",\n",
    "    model_kwargs={\"device\": \"cpu\"}\n",
    ")\n"
   ]
  },
  {
   "cell_type": "code",
   "execution_count": 11,
   "id": "fe6a183b",
   "metadata": {},
   "outputs": [],
   "source": [
    "vectorstore = FAISS.from_documents(texts, embeddings)"
   ]
  },
  {
   "cell_type": "code",
   "execution_count": 19,
   "id": "d99db42f",
   "metadata": {},
   "outputs": [
    {
     "data": {
      "text/plain": [
       "[(Document(id='a538f7bb-8bc7-4904-a064-e3f2080a230b', metadata={'source': 'spech.txt'}, page_content=\"Under Umar (RA) Caliphate\\nWhen Umar (RA) became caliph in 634, he relieved Khalid bin Walid (RA) of his position as the supreme commander of the Muslim army and appointed Abu Ubayda instead. Many historians believe this dismissal was made because there were allegations of moral misconduct on behalf of Khalid bin Walid (RA), and he had minimal coordination with leadership in Medina. \\n\\nDespite the dismissal, he continued to serve as a consultant and military leader in various campaigns, including battles in Damascus, Ba’albek, and Hems. \\n\\nRuling Over Qinnasrin and Final Years\\nKhalid bin Walid (RA) was appointed governor of Qinnasrin and surrounding regions, where he led several successful raids into Roman territory. However, his distribution of spoils, especially to allies like Ashath bin Qays, angered Umar (RA). In response, Umar (RA) ordered an investigation, which resulted in Khalid's discharge and confiscation of half of his wealth.\"),\n",
       "  np.float32(0.95195353)),\n",
       " (Document(id='d1ddff7e-0127-41ee-bc9e-e397fc28cce3', metadata={'source': 'spech.txt'}, page_content='Early Battles Under Abu Bakr (RA)\\nAfter the Prophet Muhammad’s (PBUH) passing, Khalid supported Abu Bakr (RA) as a caliph to lead Muslims, which elevated his status. During the Ridda Wars (632-633), Abu Bakr (RA) tasked Khalid bin Walid (RA) with confronting rebellious tribes. He decisively defeated Tulayha, who falsely claimed prophethood and subdued other tribes. \\n\\nBattle Against Musaylama\\nKhalid bin Walid (RA) led the Muslim army against Musaylama al-Kadhdhab, another false prophet, in Yamama in 633 (11AH). The battle was fierce, but Khalid’s forces eventually killed Musaylama and his followers. \\n\\nCampaign in Iraq\\nIn early 633, Abu Bakr (RA) sent Khalid bin Walid (RA) to Iraq to fight against the Sassanian Empire. The campaign was highly successful, with victories at places like Walaja, Ullays, and the city of Hira. His conquest of Mesopotamia opened the way for further Muslim expansion.'),\n",
       "  np.float32(1.0455858)),\n",
       " (Document(id='eb54e331-23ee-400e-aaa3-b1c80239c1fe', metadata={'source': 'spech.txt'}, page_content=\"Campaign in Syria\\nAfter Iraq, Khalid bin Walid (RA) was sent to Syria to aid Muslim forces in their battles against the Byzantine Empire. He led his army through the Syrian Desert, enduring difficult conditions but conquering cities such as Dumat al-Jandal and Busra. His arrival boosted the Muslim army's morale and strength.\\n\\nBattles of Ajnadayn and Yarmuk\\nKhalid bin Walid (RA) played a pivotal role in the battles of Ajnadayn and Yarmuk, both of which were crucial in defeating the Byzantine forces. Although there are differing reports on the exact dates, the Battle of Ajnadayn took place in 634, and the Battle of Yarmuk followed. Both led to significant Muslim victories over the Romans.\"),\n",
       "  np.float32(1.4428259))]"
      ]
     },
     "execution_count": 19,
     "metadata": {},
     "output_type": "execute_result"
    }
   ],
   "source": [
    "### querying \n",
    "\n",
    "query_result = vectorstore.similarity_search_with_score(\"Who is khalid?\")\n",
    "query_result    "
   ]
  },
  {
   "cell_type": "markdown",
   "id": "3d82f17d",
   "metadata": {},
   "source": [
    "### as retriever ==> main step to give it to llm"
   ]
  },
  {
   "cell_type": "code",
   "execution_count": 16,
   "id": "61ce195e",
   "metadata": {},
   "outputs": [
    {
     "data": {
      "text/plain": [
       "[Document(id='a538f7bb-8bc7-4904-a064-e3f2080a230b', metadata={'source': 'spech.txt'}, page_content=\"Under Umar (RA) Caliphate\\nWhen Umar (RA) became caliph in 634, he relieved Khalid bin Walid (RA) of his position as the supreme commander of the Muslim army and appointed Abu Ubayda instead. Many historians believe this dismissal was made because there were allegations of moral misconduct on behalf of Khalid bin Walid (RA), and he had minimal coordination with leadership in Medina. \\n\\nDespite the dismissal, he continued to serve as a consultant and military leader in various campaigns, including battles in Damascus, Ba’albek, and Hems. \\n\\nRuling Over Qinnasrin and Final Years\\nKhalid bin Walid (RA) was appointed governor of Qinnasrin and surrounding regions, where he led several successful raids into Roman territory. However, his distribution of spoils, especially to allies like Ashath bin Qays, angered Umar (RA). In response, Umar (RA) ordered an investigation, which resulted in Khalid's discharge and confiscation of half of his wealth.\"),\n",
       " Document(id='d1ddff7e-0127-41ee-bc9e-e397fc28cce3', metadata={'source': 'spech.txt'}, page_content='Early Battles Under Abu Bakr (RA)\\nAfter the Prophet Muhammad’s (PBUH) passing, Khalid supported Abu Bakr (RA) as a caliph to lead Muslims, which elevated his status. During the Ridda Wars (632-633), Abu Bakr (RA) tasked Khalid bin Walid (RA) with confronting rebellious tribes. He decisively defeated Tulayha, who falsely claimed prophethood and subdued other tribes. \\n\\nBattle Against Musaylama\\nKhalid bin Walid (RA) led the Muslim army against Musaylama al-Kadhdhab, another false prophet, in Yamama in 633 (11AH). The battle was fierce, but Khalid’s forces eventually killed Musaylama and his followers. \\n\\nCampaign in Iraq\\nIn early 633, Abu Bakr (RA) sent Khalid bin Walid (RA) to Iraq to fight against the Sassanian Empire. The campaign was highly successful, with victories at places like Walaja, Ullays, and the city of Hira. His conquest of Mesopotamia opened the way for further Muslim expansion.'),\n",
       " Document(id='eb54e331-23ee-400e-aaa3-b1c80239c1fe', metadata={'source': 'spech.txt'}, page_content=\"Campaign in Syria\\nAfter Iraq, Khalid bin Walid (RA) was sent to Syria to aid Muslim forces in their battles against the Byzantine Empire. He led his army through the Syrian Desert, enduring difficult conditions but conquering cities such as Dumat al-Jandal and Busra. His arrival boosted the Muslim army's morale and strength.\\n\\nBattles of Ajnadayn and Yarmuk\\nKhalid bin Walid (RA) played a pivotal role in the battles of Ajnadayn and Yarmuk, both of which were crucial in defeating the Byzantine forces. Although there are differing reports on the exact dates, the Battle of Ajnadayn took place in 634, and the Battle of Yarmuk followed. Both led to significant Muslim victories over the Romans.\")]"
      ]
     },
     "execution_count": 16,
     "metadata": {},
     "output_type": "execute_result"
    }
   ],
   "source": [
    "retriever = vectorstore.as_retriever()\n",
    "retriever.invoke(\"Who is khalid?\")"
   ]
  },
  {
   "cell_type": "code",
   "execution_count": null,
   "id": "4b768157",
   "metadata": {},
   "outputs": [],
   "source": []
  }
 ],
 "metadata": {
  "kernelspec": {
   "display_name": "venv",
   "language": "python",
   "name": "python3"
  },
  "language_info": {
   "codemirror_mode": {
    "name": "ipython",
    "version": 3
   },
   "file_extension": ".py",
   "mimetype": "text/x-python",
   "name": "python",
   "nbconvert_exporter": "python",
   "pygments_lexer": "ipython3",
   "version": "3.12.3"
  }
 },
 "nbformat": 4,
 "nbformat_minor": 5
}
